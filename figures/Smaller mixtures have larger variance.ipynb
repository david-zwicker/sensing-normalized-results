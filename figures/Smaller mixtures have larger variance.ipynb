{
 "cells": [
  {
   "cell_type": "code",
   "execution_count": null,
   "metadata": {
    "collapsed": true
   },
   "outputs": [],
   "source": [
    "%matplotlib inline"
   ]
  },
  {
   "cell_type": "code",
   "execution_count": null,
   "metadata": {
    "collapsed": true
   },
   "outputs": [],
   "source": [
    "import numpy as np\n",
    "from scipy import stats\n",
    "import matplotlib.pylab as plt\n",
    "from mpl_toolkits.axes_grid1 import ImageGrid, AxesGrid, make_axes_locatable, SubplotDivider"
   ]
  },
  {
   "cell_type": "code",
   "execution_count": null,
   "metadata": {
    "collapsed": false
   },
   "outputs": [],
   "source": [
    "import sys, os\n",
    "sys.path.append(os.path.join(os.getcwd(), '../src'))\n",
    "\n",
    "from figure_presets import *\n",
    "from plotting_functions import *\n",
    "\n",
    "from adaptive_response.adaptive_threshold import AdaptiveThresholdNumeric\n",
    "from utils.numba.tools import random_seed"
   ]
  },
  {
   "cell_type": "code",
   "execution_count": null,
   "metadata": {
    "collapsed": true
   },
   "outputs": [],
   "source": [
    "Nl = 256\n",
    "Nr = 32\n",
    "alpha = 1.3\n",
    "s = 0.1 * Nl\n",
    "width = 1"
   ]
  },
  {
   "cell_type": "code",
   "execution_count": null,
   "metadata": {
    "collapsed": false
   },
   "outputs": [],
   "source": [
    "parameters = {'c_distribution': 'log-normal'}\n",
    "\n",
    "model = AdaptiveThresholdNumeric(Nl, Nr, parameters=parameters)\n",
    "model.threshold_factor = alpha\n",
    "model.choose_commonness('const', mean_mixture_size=s)\n",
    "model.c_means = 1\n",
    "model.c_vars = .1\n",
    "model.choose_sensitivity_matrix('log-normal', mean_sensitivity=1, width=width)\n",
    "\n",
    "\n",
    "init_state = model.parameters['initialize_state']\n",
    "init_state['c_mean'] = 'exact'\n",
    "init_state['c_var'] = 'exact'\n",
    "init_state['correlations'] = 'exact'"
   ]
  },
  {
   "cell_type": "code",
   "execution_count": null,
   "metadata": {
    "collapsed": false,
    "scrolled": true
   },
   "outputs": [],
   "source": [
    "darkblue = \"#02324F\"\n",
    "darkorange = \"#914301\"\n",
    "\n",
    "random_seed(2)\n",
    "\n",
    "with figure_file(\n",
    "        'histogram_mixture_size.pdf',\n",
    "        fig_width_pt=200., crop_pdf=False, legend_frame=False,\n",
    "        transparent=True, post_process=False,\n",
    "        ) as fig:\n",
    "    \n",
    "    # get calculated bounds\n",
    "    ax = plt.gca()\n",
    "    bounds = ax.get_position().bounds\n",
    "    plt.delaxes(ax)\n",
    "\n",
    "    grid = AxesGrid(fig, bounds,  \n",
    "                    nrows_ncols=(2, 2),\n",
    "                    axes_pad=0.1,  # pad between axes in inch.\n",
    "                    share_all=False)    \n",
    "\n",
    "    for ax_k, s in enumerate((8, 64)):\n",
    "        # add the histogram\n",
    "        ax = grid[2*ax_k]\n",
    "        ax.set_aspect(6/s)\n",
    "\n",
    "        model.choose_commonness('const', mean_mixture_size=s)\n",
    "\n",
    "        en = next(model._sample_excitations(1))\n",
    "\n",
    "        xs = np.arange(len(en)) + 1\n",
    "        bars = ax.bar(xs - 0.5, en, width=1, edgecolor='none', lw=0, color=COLOR_BLUE)\n",
    "\n",
    "        ax.axhline(alpha * en.mean(), color=COLOR_RED)\n",
    "\n",
    "        for i in np.flatnonzero(en > alpha * en.mean()):\n",
    "            bars[i].set_color(darkblue)\n",
    "\n",
    "        ax.set_xlim(0.5, len(en) + 0.5)\n",
    "        ax.set_ylim(0, 2.4*s)\n",
    "        #ax.set_yticks(np.arange(0, 2.5*s, s))\n",
    "        if s == 8:\n",
    "            ax.set_yticks(np.arange(0, 16, 5))\n",
    "        elif s == 64:\n",
    "            ax.set_yticks(np.arange(0, 140, 50))\n",
    "        ax.set_xticks(np.arange(10, 35, 10))\n",
    "\n",
    "        ax.set_ylabel('$e_n$')\n",
    "\n",
    "        # add histogram\n",
    "        axHist = grid[2*ax_k + 1]\n",
    "        axHist.set_aspect(0.07/s)\n",
    "\n",
    "        bins, height = np.linspace(0, 2.2*s, num=32, retstep=True)\n",
    "        bars = np.zeros(len(bins) + 1)\n",
    "        for en in model._sample_excitations(10000): # 10000\n",
    "            for e in en:\n",
    "                bars[np.searchsorted(bins, e)] += 1\n",
    "\n",
    "        en_mean = model.excitation_statistics_estimate()['mean'].mean()\n",
    "        en_thresh = alpha*en_mean\n",
    "        bars /= bars.sum()        \n",
    "\n",
    "        idx = np.flatnonzero(bins > en_thresh)[0] - 1\n",
    "        #axHist.barh(bins, bars[:-1], height=height, edgecolor='none', lw=0, color=COLOR_BLUE)\n",
    "        axHist.barh(bins[:idx], bars[:idx], height=height, edgecolor='none', lw=0, color=COLOR_BLUE)\n",
    "        axHist.barh(bins[idx:], bars[idx:-1], height=height, edgecolor='none', lw=0, color=darkblue)\n",
    "        axHist.axhline(en_thresh, color=COLOR_RED)\n",
    "        \n",
    "        axHist.set_xlim(0, 0.19)\n",
    "        axHist.set_xticks([0, 0.1])\n",
    "        axHist.set_xticklabels([\"0\", \"0.1\"])\n",
    "\n",
    "    ax.set_xlabel('Channel $n$');\n",
    "    axHist.set_xlabel('Frequency');\n",
    "    \n",
    "print(\"Finished\")"
   ]
  },
  {
   "cell_type": "code",
   "execution_count": null,
   "metadata": {
    "collapsed": true
   },
   "outputs": [],
   "source": []
  }
 ],
 "metadata": {
  "kernelspec": {
   "display_name": "IPython (Python 3)",
   "language": "python",
   "name": "python3"
  },
  "language_info": {
   "codemirror_mode": {
    "name": "ipython",
    "version": 3
   },
   "file_extension": ".py",
   "mimetype": "text/x-python",
   "name": "python",
   "nbconvert_exporter": "python",
   "pygments_lexer": "ipython3",
   "version": "3.4.5"
  }
 },
 "nbformat": 4,
 "nbformat_minor": 0
}
