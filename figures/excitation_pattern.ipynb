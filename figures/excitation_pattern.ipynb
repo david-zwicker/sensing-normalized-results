{
 "cells": [
  {
   "cell_type": "code",
   "execution_count": null,
   "metadata": {
    "collapsed": true
   },
   "outputs": [],
   "source": [
    "%matplotlib inline"
   ]
  },
  {
   "cell_type": "code",
   "execution_count": null,
   "metadata": {
    "collapsed": true
   },
   "outputs": [],
   "source": [
    "import numpy as np\n",
    "from scipy import stats\n",
    "import matplotlib.pylab as plt\n",
    "from mpl_toolkits.axes_grid1 import ImageGrid, AxesGrid, make_axes_locatable, SubplotDivider"
   ]
  },
  {
   "cell_type": "code",
   "execution_count": null,
   "metadata": {
    "collapsed": false
   },
   "outputs": [],
   "source": [
    "import sys, os\n",
    "sys.path.append(os.path.join(os.getcwd(), '../src'))\n",
    "\n",
    "from figure_presets import *\n",
    "from plotting_functions import *\n",
    "\n",
    "from adaptive_response.adaptive_threshold import AdaptiveThresholdNumeric\n",
    "from utils.numba.tools import random_seed"
   ]
  },
  {
   "cell_type": "code",
   "execution_count": null,
   "metadata": {
    "collapsed": true
   },
   "outputs": [],
   "source": [
    "Nr = 32\n",
    "Nl = 256\n",
    "alpha = 1.4\n",
    "s = 0.1 * Nl\n",
    "width = 1"
   ]
  },
  {
   "cell_type": "code",
   "execution_count": null,
   "metadata": {
    "collapsed": false
   },
   "outputs": [],
   "source": [
    "parameters = {'c_distribution': 'log-normal'}\n",
    "\n",
    "model = AdaptiveThresholdNumeric(Nl, Nr, parameters=parameters)\n",
    "model.threshold_factor = alpha\n",
    "model.choose_commonness('const', mean_mixture_size=s)\n",
    "model.c_means = 1\n",
    "model.c_vars = 1\n",
    "\n",
    "\n",
    "init_state = model.parameters['initialize_state']\n",
    "init_state['c_mean'] = 'exact'\n",
    "init_state['c_var'] = 'exact'\n",
    "init_state['correlations'] = 'exact'"
   ]
  },
  {
   "cell_type": "code",
   "execution_count": null,
   "metadata": {
    "collapsed": false,
    "scrolled": false
   },
   "outputs": [],
   "source": [
    "random_seed(4)\n",
    "\n",
    "model.choose_sensitivity_matrix('log-normal', mean_sensitivity=1, width=width)\n",
    "\n",
    "\n",
    "ymax = 32\n",
    "\n",
    "with figure_file(\n",
    "            'excitation_pattern.pdf',\n",
    "            fig_width_pt=200., crop_pdf=False, legend_frame=False,\n",
    "            transparent=True, post_process=False, num_ticks=(6, 6)\n",
    "        ) as fig:\n",
    "    \n",
    "    en_plot = next(model._sample_excitations(1))\n",
    "\n",
    "    en = en_plot.copy()\n",
    "\n",
    "    xs = np.arange(len(en)) + 1\n",
    "    bars = plt.bar(xs - 0.5, en, width=1,\n",
    "                   color=COLOR_BLUE, edgecolor='none', lw=0)\n",
    "\n",
    "    plt.axhline(alpha * en.mean(), color=COLOR_RED)\n",
    "    #plt.axhline(en.mean(), color='k')\n",
    "\n",
    "    for i in np.flatnonzero(en > alpha * en.mean()):\n",
    "        bars[i].set_color(COLOR_ORANGE)\n",
    "\n",
    "    plt.xlim(0.5, len(en) + 0.5)\n",
    "    plt.ylim(0, ymax)\n",
    "    #plt.yticks(np.arange(0, ymax, 20))\n",
    "\n",
    "    plt.ylabel('Excitation $e_n$')\n",
    "    plt.xlabel('Channel $n$');\n",
    "\n",
    "    ax_right = plt.gca().twinx()\n",
    "    ax_right.set_ylim(0, ymax/en.mean())\n",
    "    ax_right.set_yticks([0,1,2])\n",
    "    #ax_right.set_ylabel('Norm. Exc. $\\hat e_n$')\n",
    "    \n",
    "print('Finished')"
   ]
  },
  {
   "cell_type": "code",
   "execution_count": null,
   "metadata": {
    "collapsed": true
   },
   "outputs": [],
   "source": []
  }
 ],
 "metadata": {
  "kernelspec": {
   "display_name": "IPython (Python 3)",
   "language": "python",
   "name": "python3"
  },
  "language_info": {
   "codemirror_mode": {
    "name": "ipython",
    "version": 3
   },
   "file_extension": ".py",
   "mimetype": "text/x-python",
   "name": "python",
   "nbconvert_exporter": "python",
   "pygments_lexer": "ipython3",
   "version": "3.4.5"
  }
 },
 "nbformat": 4,
 "nbformat_minor": 0
}
