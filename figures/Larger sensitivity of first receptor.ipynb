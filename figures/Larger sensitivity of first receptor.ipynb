{
 "cells": [
  {
   "cell_type": "code",
   "execution_count": null,
   "metadata": {
    "collapsed": true
   },
   "outputs": [],
   "source": [
    "%matplotlib inline"
   ]
  },
  {
   "cell_type": "code",
   "execution_count": null,
   "metadata": {
    "collapsed": true
   },
   "outputs": [],
   "source": [
    "import numpy as np\n",
    "from scipy import stats\n",
    "import matplotlib.pylab as plt\n",
    "from mpl_toolkits.axes_grid1 import ImageGrid, AxesGrid, make_axes_locatable, SubplotDivider"
   ]
  },
  {
   "cell_type": "code",
   "execution_count": null,
   "metadata": {
    "collapsed": false
   },
   "outputs": [],
   "source": [
    "import sys, os\n",
    "sys.path.append(os.path.join(os.getcwd(), '../src'))\n",
    "\n",
    "from figure_presets import *\n",
    "from plotting_functions import *\n",
    "\n",
    "from adaptive_response.adaptive_threshold import AdaptiveThresholdNumeric\n",
    "from utils.numba.tools import random_seed"
   ]
  },
  {
   "cell_type": "code",
   "execution_count": null,
   "metadata": {
    "collapsed": true
   },
   "outputs": [],
   "source": [
    "Nl = 256\n",
    "Nr = 32\n",
    "alpha = 1.3\n",
    "s = 0.1 * Nl\n",
    "width = 1"
   ]
  },
  {
   "cell_type": "code",
   "execution_count": null,
   "metadata": {
    "collapsed": false
   },
   "outputs": [],
   "source": [
    "parameters = {'c_distribution': 'log-normal'}\n",
    "\n",
    "model = AdaptiveThresholdNumeric(Nl, Nr, parameters=parameters)\n",
    "model.threshold_factor = alpha\n",
    "model.choose_commonness('const', mean_mixture_size=s)\n",
    "model.c_means = 1\n",
    "model.c_vars = 1\n",
    "model.choose_sensitivity_matrix('log-normal', mean_sensitivity=1, width=width)\n",
    "\n",
    "init_state = model.parameters['initialize_state']\n",
    "init_state['c_mean'] = 'exact'\n",
    "init_state['c_var'] = 'exact'\n",
    "init_state['correlations'] = 'exact'"
   ]
  },
  {
   "cell_type": "code",
   "execution_count": null,
   "metadata": {
    "collapsed": false,
    "scrolled": true
   },
   "outputs": [],
   "source": [
    "darkblue = \"#02324F\"\n",
    "darkorange = \"#914301\"\n",
    "\n",
    "random_seed(14)\n",
    "\n",
    "model.choose_sensitivity_matrix('log-normal', mean_sensitivity=1, width=width)\n",
    "\n",
    "ymax = 79\n",
    "trans = 2/3\n",
    "\n",
    "with figure_file(\n",
    "        'histogram_first_receptor.pdf',\n",
    "        fig_width_pt=200., crop_pdf=False, legend_frame=False,\n",
    "        transparent=True, post_process=False,\n",
    "        ) as fig:\n",
    "    \n",
    "    en_plot = next(model._sample_excitations(1))\n",
    "\n",
    "    ax = plt.gca()\n",
    "    bounds = ax.get_position().bounds\n",
    "    plt.delaxes(ax)\n",
    "\n",
    "    grid = AxesGrid(fig, bounds,  \n",
    "                    nrows_ncols=(2, 2),\n",
    "                    axes_pad=0.1,  # pad between axes in inch.\n",
    "                    share_all=False)    \n",
    "    \n",
    "    for ax_k, factor in enumerate((1, 2)):\n",
    "        # add the histogram\n",
    "        ax = grid[2*ax_k]\n",
    "        ax.set_aspect(0.19)\n",
    "\n",
    "        en = en_plot.copy()\n",
    "        en[0] *= factor\n",
    "\n",
    "        xs = np.arange(len(en)) + 1\n",
    "        bars = ax.bar(xs - 0.5, en, width=1,\n",
    "                      color=COLOR_BLUE, edgecolor='none', lw=0)\n",
    "\n",
    "        ax.axhline(alpha * en.mean(), color=COLOR_RED)\n",
    "\n",
    "        bars[0].set_color(COLOR_ORANGE)\n",
    "        \n",
    "        for i in np.flatnonzero(en > alpha * en.mean()):\n",
    "            if i == 0:\n",
    "                bars[i].set_color(darkorange)\n",
    "            else:\n",
    "                bars[i].set_color(darkblue)\n",
    "\n",
    "        # add histogram\n",
    "        axHist = grid[2*ax_k + 1]\n",
    "        axHist.set_aspect(0.0006)\n",
    "\n",
    "        ax.set_xlim(0.5, len(en) + 0.5)\n",
    "        ax.set_ylim(0, ymax)\n",
    "        ax.set_yticks(np.arange(0, ymax, 20))\n",
    "\n",
    "        ax.set_ylabel('$e_n$')\n",
    "\n",
    "        bins, height = np.linspace(*ax.get_ylim(), num=64, retstep=True)\n",
    "        bars0 = np.zeros(len(bins) + 1)\n",
    "        bars1 = np.zeros(len(bins) + 1)\n",
    "        for _ in range(100):\n",
    "            model.choose_sensitivity_matrix('log-normal', mean_sensitivity=1, width=width)\n",
    "            for en in model._sample_excitations(1000): # 100000\n",
    "                bars0[np.searchsorted(bins, factor * en[0])] += 1\n",
    "                for e in en[1:]:\n",
    "                    bars1[np.searchsorted(bins, e)] += 1\n",
    "\n",
    "        norm = bars0.sum() + bars1.sum()\n",
    "        bars0 /= height * norm / Nr\n",
    "        bars1 /= height * norm * (Nr - 1) / Nr\n",
    "        barsl, barsr = bars0, bars1\n",
    "\n",
    "        en_mean = model.excitation_statistics_estimate()['mean'].mean()\n",
    "        en_mean *= (factor + Nr - 1)/Nr\n",
    "        en_thresh = alpha * en_mean\n",
    "\n",
    "        idx = np.flatnonzero(bins > en_thresh)[0]\n",
    "        \n",
    "        # distribution for all other receptors\n",
    "        axHist.barh(bins[:idx], barsr[:idx], height=height,\n",
    "                    color=COLOR_BLUE, edgecolor='none', lw=0, alpha=trans)\n",
    "        axHist.barh(bins[idx:], barsr[idx:-1], height=height,\n",
    "                    color=darkblue, edgecolor='none', lw=0, alpha=trans)\n",
    "        \n",
    "        # distribution for first receptor\n",
    "        axHist.barh(bins[:idx], barsl[:idx], height=height,\n",
    "                    color=COLOR_ORANGE, edgecolor='none', lw=0, alpha=trans)\n",
    "        axHist.barh(bins[idx:], barsl[idx:-1], height=height,\n",
    "                    color=darkorange, edgecolor='none', lw=0, alpha=trans)\n",
    "\n",
    "        axHist.axhline(en_thresh, color=COLOR_RED)\n",
    "\n",
    "        axHist.set_xlim(0, 0.06)\n",
    "        axHist.set_xticks([0, 3e-2])\n",
    "        axHist.set_xticklabels(['0', '0.03'])\n",
    "\n",
    "    ax.set_xlabel('Channel $n$');\n",
    "    axHist.set_xlabel('Frequency');\n",
    "    \n",
    "print('Finished')"
   ]
  },
  {
   "cell_type": "code",
   "execution_count": null,
   "metadata": {
    "collapsed": true
   },
   "outputs": [],
   "source": []
  }
 ],
 "metadata": {
  "kernelspec": {
   "display_name": "IPython (Python 3)",
   "language": "python",
   "name": "python3"
  },
  "language_info": {
   "codemirror_mode": {
    "name": "ipython",
    "version": 3
   },
   "file_extension": ".py",
   "mimetype": "text/x-python",
   "name": "python",
   "nbconvert_exporter": "python",
   "pygments_lexer": "ipython3",
   "version": "3.4.5"
  }
 },
 "nbformat": 4,
 "nbformat_minor": 0
}
